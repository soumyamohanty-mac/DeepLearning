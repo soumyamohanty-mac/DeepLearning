{
 "cells": [
  {
   "cell_type": "code",
   "execution_count": 1,
   "metadata": {},
   "outputs": [],
   "source": [
    "import spacy"
   ]
  },
  {
   "cell_type": "code",
   "execution_count": 14,
   "metadata": {},
   "outputs": [],
   "source": [
    "from spacy.lang.en.stop_words import STOP_WORDS  \n",
    "from string import punctuation"
   ]
  },
  {
   "cell_type": "code",
   "execution_count": 15,
   "metadata": {
    "collapsed": true
   },
   "outputs": [
    {
     "data": {
      "text/plain": [
       "['much',\n",
       " 'namely',\n",
       " 'their',\n",
       " 'thus',\n",
       " 'former',\n",
       " 'therein',\n",
       " 'along',\n",
       " 'n’t',\n",
       " '‘s',\n",
       " 'just',\n",
       " 're',\n",
       " 'serious',\n",
       " 'by',\n",
       " 'top',\n",
       " 'about',\n",
       " 'fifteen',\n",
       " 'its',\n",
       " 'the',\n",
       " '’d',\n",
       " 'on',\n",
       " 'show',\n",
       " 'at',\n",
       " 'then',\n",
       " 'under',\n",
       " 'nothing',\n",
       " 'up',\n",
       " 'few',\n",
       " 'also',\n",
       " 'you',\n",
       " 'quite',\n",
       " 'too',\n",
       " 'seems',\n",
       " 'yours',\n",
       " \"'ll\",\n",
       " 'became',\n",
       " 'five',\n",
       " 'ca',\n",
       " 'own',\n",
       " 'this',\n",
       " 'might',\n",
       " 'nevertheless',\n",
       " 'so',\n",
       " 'since',\n",
       " 'full',\n",
       " 'cannot',\n",
       " 'same',\n",
       " 'several',\n",
       " 'hereupon',\n",
       " 'never',\n",
       " 'them',\n",
       " '’re',\n",
       " 'put',\n",
       " '’m',\n",
       " 'i',\n",
       " 'somewhere',\n",
       " 'when',\n",
       " 'anyhow',\n",
       " 'besides',\n",
       " 'herein',\n",
       " 'moreover',\n",
       " 'less',\n",
       " 'than',\n",
       " 'both',\n",
       " 'other',\n",
       " 'wherever',\n",
       " 'seem',\n",
       " 'fifty',\n",
       " '’ve',\n",
       " 'becoming',\n",
       " 'most',\n",
       " 'amount',\n",
       " 'because',\n",
       " 'a',\n",
       " 'every',\n",
       " 'must',\n",
       " 'from',\n",
       " '‘ve',\n",
       " 'him',\n",
       " 'anyway',\n",
       " 'elsewhere',\n",
       " 'everywhere',\n",
       " 'move',\n",
       " 'twelve',\n",
       " 'keep',\n",
       " 'first',\n",
       " 'rather',\n",
       " 'forty',\n",
       " 'our',\n",
       " 'such',\n",
       " 'what',\n",
       " 'latterly',\n",
       " 'call',\n",
       " 'thru',\n",
       " 'whereby',\n",
       " 'back',\n",
       " 'there',\n",
       " 'anything',\n",
       " 'eight',\n",
       " 'ever',\n",
       " 'should',\n",
       " 'give',\n",
       " 'but',\n",
       " 'that',\n",
       " 'yourselves',\n",
       " 'onto',\n",
       " 'again',\n",
       " 'thereby',\n",
       " 'whether',\n",
       " 'formerly',\n",
       " 'name',\n",
       " 'do',\n",
       " 'seeming',\n",
       " 'nowhere',\n",
       " 'toward',\n",
       " 'ten',\n",
       " '‘re',\n",
       " 'seemed',\n",
       " 'six',\n",
       " 'does',\n",
       " 'perhaps',\n",
       " 'in',\n",
       " 'no',\n",
       " 'mine',\n",
       " 'down',\n",
       " 'over',\n",
       " 'least',\n",
       " 'with',\n",
       " 'unless',\n",
       " 'often',\n",
       " 'something',\n",
       " 'whence',\n",
       " 'whoever',\n",
       " 'either',\n",
       " 'whither',\n",
       " 'those',\n",
       " 'beyond',\n",
       " 'he',\n",
       " 'become',\n",
       " 'which',\n",
       " 'anyone',\n",
       " 'alone',\n",
       " 'are',\n",
       " 'nine',\n",
       " 'eleven',\n",
       " 'still',\n",
       " 'can',\n",
       " 'after',\n",
       " 'three',\n",
       " 'will',\n",
       " 'beside',\n",
       " 'various',\n",
       " 'had',\n",
       " 'or',\n",
       " 'between',\n",
       " \"'ve\",\n",
       " 'as',\n",
       " 'around',\n",
       " 'yourself',\n",
       " 'whom',\n",
       " 'now',\n",
       " 'well',\n",
       " '‘ll',\n",
       " 'out',\n",
       " 'across',\n",
       " 'whenever',\n",
       " 'were',\n",
       " 'his',\n",
       " 'indeed',\n",
       " '‘d',\n",
       " 'everything',\n",
       " 'we',\n",
       " 'hence',\n",
       " 'each',\n",
       " 'me',\n",
       " 'during',\n",
       " 'until',\n",
       " 'everyone',\n",
       " 'without',\n",
       " 'except',\n",
       " 'amongst',\n",
       " 'who',\n",
       " 'please',\n",
       " 'already',\n",
       " 'if',\n",
       " 'thereafter',\n",
       " 'did',\n",
       " 'for',\n",
       " 'per',\n",
       " 'they',\n",
       " 'another',\n",
       " 'using',\n",
       " 'whole',\n",
       " 'bottom',\n",
       " 'almost',\n",
       " '‘m',\n",
       " 'some',\n",
       " 'however',\n",
       " 'she',\n",
       " 'your',\n",
       " 'thence',\n",
       " 'more',\n",
       " 'many',\n",
       " 'make',\n",
       " 'hundred',\n",
       " 'has',\n",
       " 'take',\n",
       " 'doing',\n",
       " 'against',\n",
       " 'myself',\n",
       " 'to',\n",
       " 'someone',\n",
       " 'get',\n",
       " 'was',\n",
       " 'wherein',\n",
       " 'see',\n",
       " 'somehow',\n",
       " 'front',\n",
       " 'not',\n",
       " 'sixty',\n",
       " 'be',\n",
       " 'am',\n",
       " 'whereafter',\n",
       " 'may',\n",
       " 'these',\n",
       " '’ll',\n",
       " 'upon',\n",
       " 'together',\n",
       " 'used',\n",
       " 'though',\n",
       " '’s',\n",
       " 'enough',\n",
       " 'go',\n",
       " 'hereby',\n",
       " 'behind',\n",
       " 'meanwhile',\n",
       " 'nor',\n",
       " 'afterwards',\n",
       " 'off',\n",
       " 'whatever',\n",
       " 'us',\n",
       " 'due',\n",
       " 'latter',\n",
       " 'n‘t',\n",
       " 'even',\n",
       " 'why',\n",
       " 'it',\n",
       " 'throughout',\n",
       " 'anywhere',\n",
       " 'above',\n",
       " 'whose',\n",
       " 'here',\n",
       " 'an',\n",
       " 'and',\n",
       " 'ours',\n",
       " 'therefore',\n",
       " 'could',\n",
       " 'noone',\n",
       " 'mostly',\n",
       " 'although',\n",
       " 'where',\n",
       " 'last',\n",
       " 'before',\n",
       " 'into',\n",
       " 'himself',\n",
       " 'of',\n",
       " 'four',\n",
       " 'hereafter',\n",
       " 'sometimes',\n",
       " 'none',\n",
       " 'regarding',\n",
       " 'becomes',\n",
       " 'else',\n",
       " \"'d\",\n",
       " 'whereas',\n",
       " 'empty',\n",
       " 'part',\n",
       " 'among',\n",
       " 'once',\n",
       " 'always',\n",
       " 'neither',\n",
       " 'beforehand',\n",
       " 'being',\n",
       " 'within',\n",
       " 'two',\n",
       " 'sometime',\n",
       " 'next',\n",
       " 'been',\n",
       " 'hers',\n",
       " 'how',\n",
       " 'really',\n",
       " 'further',\n",
       " 'made',\n",
       " 'others',\n",
       " 'say',\n",
       " \"'re\",\n",
       " 'third',\n",
       " 'towards',\n",
       " 'have',\n",
       " 'nobody',\n",
       " 'one',\n",
       " \"n't\",\n",
       " 'twenty',\n",
       " 'yet',\n",
       " 'herself',\n",
       " 'below',\n",
       " 'her',\n",
       " 'themselves',\n",
       " 'would',\n",
       " 'is',\n",
       " 'otherwise',\n",
       " 'side',\n",
       " \"'m\",\n",
       " 'itself',\n",
       " 'any',\n",
       " 'ourselves',\n",
       " 'very',\n",
       " 'thereupon',\n",
       " 'all',\n",
       " 'through',\n",
       " 'my',\n",
       " 'whereupon',\n",
       " 'while',\n",
       " 'only',\n",
       " \"'s\",\n",
       " 'via',\n",
       " 'done']"
      ]
     },
     "execution_count": 15,
     "metadata": {},
     "output_type": "execute_result"
    }
   ],
   "source": [
    "stopwords = list(STOP_WORDS)\n",
    "stopwords"
   ]
  },
  {
   "cell_type": "code",
   "execution_count": 16,
   "metadata": {
    "collapsed": true
   },
   "outputs": [
    {
     "name": "stdout",
     "output_type": "stream",
     "text": [
      "{'much', 'namely', 'their', 'thus', 'former', 'therein', 'along', 'n’t', '‘s', 'just', 're', 'serious', 'by', 'top', 'about', 'fifteen', 'its', 'the', '’d', 'on', 'show', 'at', 'then', 'under', 'nothing', 'up', 'few', 'also', 'you', 'quite', 'too', 'seems', 'yours', \"'ll\", 'became', 'five', 'ca', 'own', 'this', 'might', 'nevertheless', 'so', 'since', 'full', 'cannot', 'same', 'several', 'hereupon', 'never', 'them', '’re', 'put', '’m', 'i', 'somewhere', 'when', 'anyhow', 'besides', 'herein', 'moreover', 'less', 'than', 'both', 'other', 'wherever', 'seem', 'fifty', '’ve', 'becoming', 'most', 'amount', 'because', 'a', 'every', 'must', 'from', '‘ve', 'him', 'anyway', 'elsewhere', 'everywhere', 'move', 'twelve', 'keep', 'first', 'rather', 'forty', 'our', 'such', 'what', 'latterly', 'call', 'thru', 'whereby', 'back', 'there', 'anything', 'eight', 'ever', 'should', 'give', 'but', 'that', 'yourselves', 'onto', 'again', 'thereby', 'whether', 'formerly', 'name', 'do', 'seeming', 'nowhere', 'toward', 'ten', '‘re', 'seemed', 'six', 'does', 'perhaps', 'in', 'no', 'mine', 'down', 'over', 'least', 'with', 'unless', 'often', 'something', 'whence', 'whoever', 'either', 'whither', 'those', 'beyond', 'he', 'become', 'which', 'anyone', 'alone', 'are', 'nine', 'eleven', 'still', 'can', 'after', 'three', 'will', 'beside', 'various', 'had', 'or', 'between', \"'ve\", 'as', 'around', 'yourself', 'whom', 'now', 'well', '‘ll', 'out', 'across', 'whenever', 'were', 'his', 'indeed', '‘d', 'everything', 'we', 'hence', 'each', 'me', 'during', 'until', 'everyone', 'without', 'except', 'amongst', 'who', 'please', 'already', 'if', 'thereafter', 'did', 'for', 'per', 'they', 'another', 'using', 'whole', 'bottom', 'almost', '‘m', 'some', 'however', 'she', 'your', 'thence', 'more', 'many', 'make', 'hundred', 'has', 'take', 'doing', 'against', 'myself', 'to', 'someone', 'get', 'was', 'wherein', 'see', 'somehow', 'front', 'not', 'sixty', 'be', 'am', 'whereafter', 'may', 'these', '’ll', 'upon', 'together', 'used', 'though', '’s', 'enough', 'go', 'hereby', 'behind', 'meanwhile', 'nor', 'afterwards', 'off', 'whatever', 'us', 'due', 'latter', 'n‘t', 'even', 'why', 'it', 'throughout', 'anywhere', 'above', 'whose', 'here', 'an', 'and', 'ours', 'therefore', 'could', 'noone', 'mostly', 'although', 'where', 'last', 'before', 'into', 'himself', 'of', 'four', 'hereafter', 'sometimes', 'none', 'regarding', 'becomes', 'else', \"'d\", 'whereas', 'empty', 'part', 'among', 'once', 'always', 'neither', 'beforehand', 'being', 'within', 'two', 'sometime', 'next', 'been', 'hers', 'how', 'really', 'further', 'made', 'others', 'say', \"'re\", 'third', 'towards', 'have', 'nobody', 'one', \"n't\", 'twenty', 'yet', 'herself', 'below', 'her', 'themselves', 'would', 'is', 'otherwise', 'side', \"'m\", 'itself', 'any', 'ourselves', 'very', 'thereupon', 'all', 'through', 'my', 'whereupon', 'while', 'only', \"'s\", 'via', 'done'}\n"
     ]
    }
   ],
   "source": [
    "print(STOP_WORDS)"
   ]
  },
  {
   "cell_type": "code",
   "execution_count": 17,
   "metadata": {},
   "outputs": [],
   "source": [
    "nlp = spacy.load('en_core_web_sm')"
   ]
  },
  {
   "cell_type": "code",
   "execution_count": 24,
   "metadata": {},
   "outputs": [],
   "source": [
    "text = \"\"\"\"\n",
    "The COVID-19 pandemic is straining health systems worldwide. The rapidly increasing demand on health facilities and health care workers threatens to leave some health systems overstretched and unable to operate effectively.Previous outbreaks have demonstrated that when health systems are overwhelmed, mortality from vaccine-preventable and other treatable conditions can also increase dramatically. During the 2014-2015 Ebola outbreak, the increased number of deaths caused by measles, malaria, HIV/AIDS, and tuberculosis attributable to health system failures exceeded deaths from Ebola .  ",
    "\n",
    "The best defense against any outbreak is a strong health system, stressed WHO Director-General Tedros Adhanom Ghebreyesus. COVID-19 is revealing how fragile many of the world’s health systems and services are, forcing countries to make difficult choices on how to best meet the needs of their people. ",
    "\n",
    "To help countries navigate through these challenges, the World Health Organization (WHO) has updated operational planning guidelines in balancing the demands of responding directly to COVID-19 while maintaining essential health service delivery, and mitigating the risk of system collapse. This includes a set of targeted immediate actions that countries should consider at national, regional, and local level to reorganize and maintain access to high-quality essential health services for all. ",
    "\n",
    "Countries should identify essential services that will be prioritized in their efforts to maintain continuity of service delivery and make strategic shifts to ensure that increasingly limited resources provide maximum benefit for the population. They also need to comply with the highest standard in precautions, especially in hygiene practices, and the provision of adequate supplies including personal protective equipment This requires robust planning and coordinated actions between governments and health facilities and their managers. ",
    "\n",
    "Some examples of essential services include: routine vaccination; reproductive health services including care during pregnancy and childbirth; care of young infants and older adults; management of mental health conditions as well as noncommunicable diseases and infectious diseases like HIV, malaria and TB; critical inpatient therapies; management of emergency health conditions; auxiliary services like basic diagnostic imaging, laboratory services, and blood bank services, among others. ",
    "\n",
    "Well-organized and prepared health systems can continue to provide equitable access to essential service delivery throughout an emergency, limiting direct mortality and avoiding increased indirect mortality.   \n",
    "The guidelines stress the importance of keeping up-to-date information. This requires frequent transparent communications with the public, and strong community engagements so the public   can maintain trust in the system to safely meet their essential needs and to control infection risk in health facilities. This will help ensure that people continue to seek care when appropriate, and adhere to public health advice.\n",
    "\n",
    "\"\"\""
   ]
  },
  {
   "cell_type": "code",
   "execution_count": 25,
   "metadata": {},
   "outputs": [],
   "source": [
    "doc = nlp(text)"
   ]
  },
  {
   "cell_type": "code",
   "execution_count": 26,
   "metadata": {},
   "outputs": [
    {
     "data": {
      "text/plain": [
       "\"\n",
       "The COVID-19 pandemic is straining health systems worldwide. The rapidly increasing demand on health facilities and health care workers threatens to leave some health systems overstretched and unable to operate effectively.Previous outbreaks have demonstrated that when health systems are overwhelmed, mortality from vaccine-preventable and other treatable conditions can also increase dramatically. During the 2014-2015 Ebola outbreak, the increased number of deaths caused by measles, malaria, HIV/AIDS, and tuberculosis attributable to health system failures exceeded deaths from Ebola . \n",
       "\n",
       "The best defense against any outbreak is a strong health system, stressed WHO Director-General Tedros Adhanom Ghebreyesus. COVID-19 is revealing how fragile many of the world’s health systems and services are, forcing countries to make difficult choices on how to best meet the needs of their people.\n",
       "\n",
       "To help countries navigate through these challenges, the World Health Organization (WHO) has updated operational planning guidelines in balancing the demands of responding directly to COVID-19 while maintaining essential health service delivery, and mitigating the risk of system collapse. This includes a set of targeted immediate actions that countries should consider at national, regional, and local level to reorganize and maintain access to high-quality essential health services for all.\n",
       "\n",
       "Countries should identify essential services that will be prioritized in their efforts to maintain continuity of service delivery and make strategic shifts to ensure that increasingly limited resources provide maximum benefit for the population. They also need to comply with the highest standard in precautions, especially in hygiene practices, and the provision of adequate supplies including personal protective equipment This requires robust planning and coordinated actions between governments and health facilities and their managers.\n",
       "\n",
       "Some examples of essential services include: routine vaccination; reproductive health services including care during pregnancy and childbirth; care of young infants and older adults; management of mental health conditions as well as noncommunicable diseases and infectious diseases like HIV, malaria and TB; critical inpatient therapies; management of emergency health conditions; auxiliary services like basic diagnostic imaging, laboratory services, and blood bank services, among others.\n",
       "\n",
       "Well-organized and prepared health systems can continue to provide equitable access to essential service delivery throughout an emergency, limiting direct mortality and avoiding increased indirect mortality.   \n",
       "The guidelines stress the importance of keeping up-to-date information. This requires frequent transparent communications with the public, and strong community engagements so the public   can maintain trust in the system to safely meet their essential needs and to control infection risk in health facilities. This will help ensure that people continue to seek care when appropriate, and adhere to public health advice.\n"
      ]
     },
     "execution_count": 26,
     "metadata": {},
     "output_type": "execute_result"
    }
   ],
   "source": [
    "doc"
   ]
  },
  {
   "cell_type": "code",
   "execution_count": 27,
   "metadata": {},
   "outputs": [
    {
     "name": "stdout",
     "output_type": "stream",
     "text": [
      "['\"', '\\n', 'The', 'COVID-19', 'pandemic', 'is', 'straining', 'health', 'systems', 'worldwide', '.', 'The', 'rapidly', 'increasing', 'demand', 'on', 'health', 'facilities', 'and', 'health', 'care', 'workers', 'threatens', 'to', 'leave', 'some', 'health', 'systems', 'overstretched', 'and', 'unable', 'to', 'operate', 'effectively', '.', 'Previous', 'outbreaks', 'have', 'demonstrated', 'that', 'when', 'health', 'systems', 'are', 'overwhelmed', ',', 'mortality', 'from', 'vaccine', '-', 'preventable', 'and', 'other', 'treatable', 'conditions', 'can', 'also', 'increase', 'dramatically', '.', 'During', 'the', '2014', '-', '2015', 'Ebola', 'outbreak', ',', 'the', 'increased', 'number', 'of', 'deaths', 'caused', 'by', 'measles', ',', 'malaria', ',', 'HIV', '/', 'AIDS', ',', 'and', 'tuberculosis', 'attributable', 'to', 'health', 'system', 'failures', 'exceeded', 'deaths', 'from', 'Ebola', '\\xa0', '.', '\\xa0\\u2028\\n', 'The', 'best', 'defense', 'against', 'any', 'outbreak', 'is', 'a', 'strong', 'health', 'system', ',', 'stressed', 'WHO', 'Director', '-', 'General', 'Tedros', 'Adhanom', 'Ghebreyesus', '.', 'COVID-19', 'is', 'revealing', 'how', 'fragile', 'many', 'of', 'the', 'world', '’s', 'health', 'systems', 'and', 'services', 'are', ',', 'forcing', 'countries', 'to', 'make', 'difficult', 'choices', 'on', 'how', 'to', 'best', 'meet', 'the', 'needs', 'of', 'their', 'people', '.', '\\u2028\\n', 'To', 'help', 'countries', 'navigate', 'through', 'these', 'challenges', ',', 'the', 'World', 'Health', 'Organization', '(', 'WHO', ')', 'has', 'updated', '\\xa0', 'operational', 'planning', 'guidelines', '\\xa0', 'in', 'balancing', 'the', 'demands', 'of', 'responding', 'directly', 'to', 'COVID-19', 'while', 'maintaining', 'essential', 'health', 'service', 'delivery', ',', 'and', 'mitigating', 'the', 'risk', 'of', 'system', 'collapse', '.', 'This', 'includes', 'a', 'set', 'of', 'targeted', 'immediate', 'actions', 'that', 'countries', 'should', 'consider', 'at', 'national', ',', 'regional', ',', 'and', 'local', 'level', 'to', 'reorganize', 'and', 'maintain', 'access', 'to', 'high', '-', 'quality', 'essential', 'health', 'services', 'for', 'all', '.', '\\u2028\\n', 'Countries', 'should', 'identify', 'essential', 'services', 'that', 'will', 'be', 'prioritized', 'in', 'their', 'efforts', 'to', 'maintain', 'continuity', 'of', 'service', 'delivery', 'and', 'make', 'strategic', 'shifts', 'to', 'ensure', 'that', 'increasingly', 'limited', 'resources', 'provide', 'maximum', 'benefit', 'for', 'the', 'population', '.', 'They', 'also', 'need', 'to', 'comply', 'with', 'the', 'highest', 'standard', 'in', 'precautions', ',', 'especially', 'in', 'hygiene', 'practices', ',', 'and', 'the', 'provision', 'of', 'adequate', 'supplies', 'including', 'personal', 'protective', 'equipment', 'This', 'requires', 'robust', 'planning', 'and', 'coordinated', 'actions', 'between', 'governments', 'and', 'health', 'facilities', 'and', 'their', 'managers', '.', '\\u2028\\n', 'Some', 'examples', 'of', 'essential', 'services', 'include', ':', 'routine', 'vaccination', ';', 'reproductive', 'health', 'services', 'including', 'care', 'during', 'pregnancy', 'and', 'childbirth', ';', 'care', 'of', 'young', 'infants', 'and', 'older', 'adults', ';', 'management', 'of', 'mental', 'health', 'conditions', 'as', 'well', 'as', 'noncommunicable', 'diseases', 'and', 'infectious', 'diseases', 'like', 'HIV', ',', 'malaria', 'and', 'TB', ';', 'critical', 'inpatient', 'therapies', ';', 'management', 'of', 'emergency', 'health', 'conditions', ';', 'auxiliary', 'services', 'like', 'basic', 'diagnostic', 'imaging', ',', 'laboratory', 'services', ',', 'and', 'blood', 'bank', 'services', ',', 'among', 'others', '.', '\\u2028\\n', 'Well', '-', 'organized', 'and', 'prepared', 'health', 'systems', 'can', 'continue', 'to', 'provide', 'equitable', 'access', 'to', 'essential', 'service', 'delivery', 'throughout', 'an', 'emergency', ',', 'limiting', 'direct', 'mortality', 'and', 'avoiding', 'increased', 'indirect', 'mortality', '.', '\\xa0\\xa0\\xa0\\n', 'The', 'guidelines', 'stress', 'the', 'importance', 'of', 'keeping', 'up', '-', 'to', '-', 'date', 'information', '.', 'This', 'requires', 'frequent', 'transparent', 'communications', 'with', 'the', 'public', ',', 'and', 'strong', 'community', 'engagements', 'so', 'the', 'public', '\\xa0\\xa0', 'can', 'maintain', 'trust', 'in', 'the', 'system', 'to', 'safely', 'meet', 'their', 'essential', 'needs', 'and', 'to', 'control', 'infection', 'risk', 'in', 'health', 'facilities', '.', 'This', 'will', 'help', 'ensure', 'that', 'people', 'continue', 'to', 'seek', 'care', 'when', 'appropriate', ',', 'and', 'adhere', 'to', 'public', 'health', 'advice', '.', '\\n\\n']\n"
     ]
    }
   ],
   "source": [
    "tokens = [token.text for token in doc]\n",
    "print(tokens)"
   ]
  },
  {
   "cell_type": "code",
   "execution_count": 29,
   "metadata": {},
   "outputs": [],
   "source": [
    "punctuation = punctuation + '\\n'"
   ]
  },
  {
   "cell_type": "code",
   "execution_count": 30,
   "metadata": {},
   "outputs": [
    {
     "data": {
      "text/plain": [
       "'!\"#$%&\\'()*+,-./:;<=>?@[\\\\]^_`{|}~\\n'"
      ]
     },
     "execution_count": 30,
     "metadata": {},
     "output_type": "execute_result"
    }
   ],
   "source": [
    "punctuation"
   ]
  },
  {
   "cell_type": "code",
   "execution_count": 31,
   "metadata": {},
   "outputs": [],
   "source": [
    "word_frequencies = {}\n",
    "for word in doc:\n",
    "    if word.text.lower() not in stopwords:\n",
    "        if word.text.lower() not in punctuation:\n",
    "            if word.text not in word_frequencies.keys():\n",
    "                word_frequencies[word.text] = 1\n",
    "            else:\n",
    "                 word_frequencies[word.text] += 1\n",
    "                \n",
    "                "
   ]
  },
  {
   "cell_type": "code",
   "execution_count": 32,
   "metadata": {},
   "outputs": [
    {
     "data": {
      "text/plain": [
       "{'COVID-19': 3,\n",
       " 'pandemic': 1,\n",
       " 'straining': 1,\n",
       " 'health': 17,\n",
       " 'systems': 5,\n",
       " 'worldwide': 1,\n",
       " 'rapidly': 1,\n",
       " 'increasing': 1,\n",
       " 'demand': 1,\n",
       " 'facilities': 3,\n",
       " 'care': 4,\n",
       " 'workers': 1,\n",
       " 'threatens': 1,\n",
       " 'leave': 1,\n",
       " 'overstretched': 1,\n",
       " 'unable': 1,\n",
       " 'operate': 1,\n",
       " 'effectively': 1,\n",
       " 'Previous': 1,\n",
       " 'outbreaks': 1,\n",
       " 'demonstrated': 1,\n",
       " 'overwhelmed': 1,\n",
       " 'mortality': 3,\n",
       " 'vaccine': 1,\n",
       " 'preventable': 1,\n",
       " 'treatable': 1,\n",
       " 'conditions': 3,\n",
       " 'increase': 1,\n",
       " 'dramatically': 1,\n",
       " '2014': 1,\n",
       " '2015': 1,\n",
       " 'Ebola': 2,\n",
       " 'outbreak': 2,\n",
       " 'increased': 2,\n",
       " 'number': 1,\n",
       " 'deaths': 2,\n",
       " 'caused': 1,\n",
       " 'measles': 1,\n",
       " 'malaria': 2,\n",
       " 'HIV': 2,\n",
       " 'AIDS': 1,\n",
       " 'tuberculosis': 1,\n",
       " 'attributable': 1,\n",
       " 'system': 4,\n",
       " 'failures': 1,\n",
       " 'exceeded': 1,\n",
       " '\\xa0': 3,\n",
       " '\\xa0\\u2028\\n': 1,\n",
       " 'best': 2,\n",
       " 'defense': 1,\n",
       " 'strong': 2,\n",
       " 'stressed': 1,\n",
       " 'Director': 1,\n",
       " 'General': 1,\n",
       " 'Tedros': 1,\n",
       " 'Adhanom': 1,\n",
       " 'Ghebreyesus': 1,\n",
       " 'revealing': 1,\n",
       " 'fragile': 1,\n",
       " 'world': 1,\n",
       " 'services': 8,\n",
       " 'forcing': 1,\n",
       " 'countries': 3,\n",
       " 'difficult': 1,\n",
       " 'choices': 1,\n",
       " 'meet': 2,\n",
       " 'needs': 2,\n",
       " 'people': 2,\n",
       " '\\u2028\\n': 4,\n",
       " 'help': 2,\n",
       " 'navigate': 1,\n",
       " 'challenges': 1,\n",
       " 'World': 1,\n",
       " 'Health': 1,\n",
       " 'Organization': 1,\n",
       " 'updated': 1,\n",
       " 'operational': 1,\n",
       " 'planning': 2,\n",
       " 'guidelines': 2,\n",
       " 'balancing': 1,\n",
       " 'demands': 1,\n",
       " 'responding': 1,\n",
       " 'directly': 1,\n",
       " 'maintaining': 1,\n",
       " 'essential': 6,\n",
       " 'service': 3,\n",
       " 'delivery': 3,\n",
       " 'mitigating': 1,\n",
       " 'risk': 2,\n",
       " 'collapse': 1,\n",
       " 'includes': 1,\n",
       " 'set': 1,\n",
       " 'targeted': 1,\n",
       " 'immediate': 1,\n",
       " 'actions': 2,\n",
       " 'consider': 1,\n",
       " 'national': 1,\n",
       " 'regional': 1,\n",
       " 'local': 1,\n",
       " 'level': 1,\n",
       " 'reorganize': 1,\n",
       " 'maintain': 3,\n",
       " 'access': 2,\n",
       " 'high': 1,\n",
       " 'quality': 1,\n",
       " 'Countries': 1,\n",
       " 'identify': 1,\n",
       " 'prioritized': 1,\n",
       " 'efforts': 1,\n",
       " 'continuity': 1,\n",
       " 'strategic': 1,\n",
       " 'shifts': 1,\n",
       " 'ensure': 2,\n",
       " 'increasingly': 1,\n",
       " 'limited': 1,\n",
       " 'resources': 1,\n",
       " 'provide': 2,\n",
       " 'maximum': 1,\n",
       " 'benefit': 1,\n",
       " 'population': 1,\n",
       " 'need': 1,\n",
       " 'comply': 1,\n",
       " 'highest': 1,\n",
       " 'standard': 1,\n",
       " 'precautions': 1,\n",
       " 'especially': 1,\n",
       " 'hygiene': 1,\n",
       " 'practices': 1,\n",
       " 'provision': 1,\n",
       " 'adequate': 1,\n",
       " 'supplies': 1,\n",
       " 'including': 2,\n",
       " 'personal': 1,\n",
       " 'protective': 1,\n",
       " 'equipment': 1,\n",
       " 'requires': 2,\n",
       " 'robust': 1,\n",
       " 'coordinated': 1,\n",
       " 'governments': 1,\n",
       " 'managers': 1,\n",
       " 'examples': 1,\n",
       " 'include': 1,\n",
       " 'routine': 1,\n",
       " 'vaccination': 1,\n",
       " 'reproductive': 1,\n",
       " 'pregnancy': 1,\n",
       " 'childbirth': 1,\n",
       " 'young': 1,\n",
       " 'infants': 1,\n",
       " 'older': 1,\n",
       " 'adults': 1,\n",
       " 'management': 2,\n",
       " 'mental': 1,\n",
       " 'noncommunicable': 1,\n",
       " 'diseases': 2,\n",
       " 'infectious': 1,\n",
       " 'like': 2,\n",
       " 'TB': 1,\n",
       " 'critical': 1,\n",
       " 'inpatient': 1,\n",
       " 'therapies': 1,\n",
       " 'emergency': 2,\n",
       " 'auxiliary': 1,\n",
       " 'basic': 1,\n",
       " 'diagnostic': 1,\n",
       " 'imaging': 1,\n",
       " 'laboratory': 1,\n",
       " 'blood': 1,\n",
       " 'bank': 1,\n",
       " 'organized': 1,\n",
       " 'prepared': 1,\n",
       " 'continue': 2,\n",
       " 'equitable': 1,\n",
       " 'limiting': 1,\n",
       " 'direct': 1,\n",
       " 'avoiding': 1,\n",
       " 'indirect': 1,\n",
       " '\\xa0\\xa0\\xa0\\n': 1,\n",
       " 'stress': 1,\n",
       " 'importance': 1,\n",
       " 'keeping': 1,\n",
       " 'date': 1,\n",
       " 'information': 1,\n",
       " 'frequent': 1,\n",
       " 'transparent': 1,\n",
       " 'communications': 1,\n",
       " 'public': 3,\n",
       " 'community': 1,\n",
       " 'engagements': 1,\n",
       " '\\xa0\\xa0': 1,\n",
       " 'trust': 1,\n",
       " 'safely': 1,\n",
       " 'control': 1,\n",
       " 'infection': 1,\n",
       " 'seek': 1,\n",
       " 'appropriate': 1,\n",
       " 'adhere': 1,\n",
       " 'advice': 1,\n",
       " '\\n\\n': 1}"
      ]
     },
     "execution_count": 32,
     "metadata": {},
     "output_type": "execute_result"
    }
   ],
   "source": [
    "word_frequencies"
   ]
  },
  {
   "cell_type": "code",
   "execution_count": 33,
   "metadata": {},
   "outputs": [],
   "source": [
    "max_frequency = max(word_frequencies.values())"
   ]
  },
  {
   "cell_type": "code",
   "execution_count": 34,
   "metadata": {},
   "outputs": [
    {
     "data": {
      "text/plain": [
       "17"
      ]
     },
     "execution_count": 34,
     "metadata": {},
     "output_type": "execute_result"
    }
   ],
   "source": [
    "max_frequency"
   ]
  },
  {
   "cell_type": "code",
   "execution_count": 35,
   "metadata": {},
   "outputs": [],
   "source": [
    "for word in word_frequencies.keys():\n",
    "    word_frequencies[word] = word_frequencies[word]/max_frequency"
   ]
  },
  {
   "cell_type": "code",
   "execution_count": 36,
   "metadata": {},
   "outputs": [
    {
     "data": {
      "text/plain": [
       "{'COVID-19': 0.17647058823529413,\n",
       " 'pandemic': 0.058823529411764705,\n",
       " 'straining': 0.058823529411764705,\n",
       " 'health': 1.0,\n",
       " 'systems': 0.29411764705882354,\n",
       " 'worldwide': 0.058823529411764705,\n",
       " 'rapidly': 0.058823529411764705,\n",
       " 'increasing': 0.058823529411764705,\n",
       " 'demand': 0.058823529411764705,\n",
       " 'facilities': 0.17647058823529413,\n",
       " 'care': 0.23529411764705882,\n",
       " 'workers': 0.058823529411764705,\n",
       " 'threatens': 0.058823529411764705,\n",
       " 'leave': 0.058823529411764705,\n",
       " 'overstretched': 0.058823529411764705,\n",
       " 'unable': 0.058823529411764705,\n",
       " 'operate': 0.058823529411764705,\n",
       " 'effectively': 0.058823529411764705,\n",
       " 'Previous': 0.058823529411764705,\n",
       " 'outbreaks': 0.058823529411764705,\n",
       " 'demonstrated': 0.058823529411764705,\n",
       " 'overwhelmed': 0.058823529411764705,\n",
       " 'mortality': 0.17647058823529413,\n",
       " 'vaccine': 0.058823529411764705,\n",
       " 'preventable': 0.058823529411764705,\n",
       " 'treatable': 0.058823529411764705,\n",
       " 'conditions': 0.17647058823529413,\n",
       " 'increase': 0.058823529411764705,\n",
       " 'dramatically': 0.058823529411764705,\n",
       " '2014': 0.058823529411764705,\n",
       " '2015': 0.058823529411764705,\n",
       " 'Ebola': 0.11764705882352941,\n",
       " 'outbreak': 0.11764705882352941,\n",
       " 'increased': 0.11764705882352941,\n",
       " 'number': 0.058823529411764705,\n",
       " 'deaths': 0.11764705882352941,\n",
       " 'caused': 0.058823529411764705,\n",
       " 'measles': 0.058823529411764705,\n",
       " 'malaria': 0.11764705882352941,\n",
       " 'HIV': 0.11764705882352941,\n",
       " 'AIDS': 0.058823529411764705,\n",
       " 'tuberculosis': 0.058823529411764705,\n",
       " 'attributable': 0.058823529411764705,\n",
       " 'system': 0.23529411764705882,\n",
       " 'failures': 0.058823529411764705,\n",
       " 'exceeded': 0.058823529411764705,\n",
       " '\\xa0': 0.17647058823529413,\n",
       " '\\xa0\\u2028\\n': 0.058823529411764705,\n",
       " 'best': 0.11764705882352941,\n",
       " 'defense': 0.058823529411764705,\n",
       " 'strong': 0.11764705882352941,\n",
       " 'stressed': 0.058823529411764705,\n",
       " 'Director': 0.058823529411764705,\n",
       " 'General': 0.058823529411764705,\n",
       " 'Tedros': 0.058823529411764705,\n",
       " 'Adhanom': 0.058823529411764705,\n",
       " 'Ghebreyesus': 0.058823529411764705,\n",
       " 'revealing': 0.058823529411764705,\n",
       " 'fragile': 0.058823529411764705,\n",
       " 'world': 0.058823529411764705,\n",
       " 'services': 0.47058823529411764,\n",
       " 'forcing': 0.058823529411764705,\n",
       " 'countries': 0.17647058823529413,\n",
       " 'difficult': 0.058823529411764705,\n",
       " 'choices': 0.058823529411764705,\n",
       " 'meet': 0.11764705882352941,\n",
       " 'needs': 0.11764705882352941,\n",
       " 'people': 0.11764705882352941,\n",
       " '\\u2028\\n': 0.23529411764705882,\n",
       " 'help': 0.11764705882352941,\n",
       " 'navigate': 0.058823529411764705,\n",
       " 'challenges': 0.058823529411764705,\n",
       " 'World': 0.058823529411764705,\n",
       " 'Health': 0.058823529411764705,\n",
       " 'Organization': 0.058823529411764705,\n",
       " 'updated': 0.058823529411764705,\n",
       " 'operational': 0.058823529411764705,\n",
       " 'planning': 0.11764705882352941,\n",
       " 'guidelines': 0.11764705882352941,\n",
       " 'balancing': 0.058823529411764705,\n",
       " 'demands': 0.058823529411764705,\n",
       " 'responding': 0.058823529411764705,\n",
       " 'directly': 0.058823529411764705,\n",
       " 'maintaining': 0.058823529411764705,\n",
       " 'essential': 0.35294117647058826,\n",
       " 'service': 0.17647058823529413,\n",
       " 'delivery': 0.17647058823529413,\n",
       " 'mitigating': 0.058823529411764705,\n",
       " 'risk': 0.11764705882352941,\n",
       " 'collapse': 0.058823529411764705,\n",
       " 'includes': 0.058823529411764705,\n",
       " 'set': 0.058823529411764705,\n",
       " 'targeted': 0.058823529411764705,\n",
       " 'immediate': 0.058823529411764705,\n",
       " 'actions': 0.11764705882352941,\n",
       " 'consider': 0.058823529411764705,\n",
       " 'national': 0.058823529411764705,\n",
       " 'regional': 0.058823529411764705,\n",
       " 'local': 0.058823529411764705,\n",
       " 'level': 0.058823529411764705,\n",
       " 'reorganize': 0.058823529411764705,\n",
       " 'maintain': 0.17647058823529413,\n",
       " 'access': 0.11764705882352941,\n",
       " 'high': 0.058823529411764705,\n",
       " 'quality': 0.058823529411764705,\n",
       " 'Countries': 0.058823529411764705,\n",
       " 'identify': 0.058823529411764705,\n",
       " 'prioritized': 0.058823529411764705,\n",
       " 'efforts': 0.058823529411764705,\n",
       " 'continuity': 0.058823529411764705,\n",
       " 'strategic': 0.058823529411764705,\n",
       " 'shifts': 0.058823529411764705,\n",
       " 'ensure': 0.11764705882352941,\n",
       " 'increasingly': 0.058823529411764705,\n",
       " 'limited': 0.058823529411764705,\n",
       " 'resources': 0.058823529411764705,\n",
       " 'provide': 0.11764705882352941,\n",
       " 'maximum': 0.058823529411764705,\n",
       " 'benefit': 0.058823529411764705,\n",
       " 'population': 0.058823529411764705,\n",
       " 'need': 0.058823529411764705,\n",
       " 'comply': 0.058823529411764705,\n",
       " 'highest': 0.058823529411764705,\n",
       " 'standard': 0.058823529411764705,\n",
       " 'precautions': 0.058823529411764705,\n",
       " 'especially': 0.058823529411764705,\n",
       " 'hygiene': 0.058823529411764705,\n",
       " 'practices': 0.058823529411764705,\n",
       " 'provision': 0.058823529411764705,\n",
       " 'adequate': 0.058823529411764705,\n",
       " 'supplies': 0.058823529411764705,\n",
       " 'including': 0.11764705882352941,\n",
       " 'personal': 0.058823529411764705,\n",
       " 'protective': 0.058823529411764705,\n",
       " 'equipment': 0.058823529411764705,\n",
       " 'requires': 0.11764705882352941,\n",
       " 'robust': 0.058823529411764705,\n",
       " 'coordinated': 0.058823529411764705,\n",
       " 'governments': 0.058823529411764705,\n",
       " 'managers': 0.058823529411764705,\n",
       " 'examples': 0.058823529411764705,\n",
       " 'include': 0.058823529411764705,\n",
       " 'routine': 0.058823529411764705,\n",
       " 'vaccination': 0.058823529411764705,\n",
       " 'reproductive': 0.058823529411764705,\n",
       " 'pregnancy': 0.058823529411764705,\n",
       " 'childbirth': 0.058823529411764705,\n",
       " 'young': 0.058823529411764705,\n",
       " 'infants': 0.058823529411764705,\n",
       " 'older': 0.058823529411764705,\n",
       " 'adults': 0.058823529411764705,\n",
       " 'management': 0.11764705882352941,\n",
       " 'mental': 0.058823529411764705,\n",
       " 'noncommunicable': 0.058823529411764705,\n",
       " 'diseases': 0.11764705882352941,\n",
       " 'infectious': 0.058823529411764705,\n",
       " 'like': 0.11764705882352941,\n",
       " 'TB': 0.058823529411764705,\n",
       " 'critical': 0.058823529411764705,\n",
       " 'inpatient': 0.058823529411764705,\n",
       " 'therapies': 0.058823529411764705,\n",
       " 'emergency': 0.11764705882352941,\n",
       " 'auxiliary': 0.058823529411764705,\n",
       " 'basic': 0.058823529411764705,\n",
       " 'diagnostic': 0.058823529411764705,\n",
       " 'imaging': 0.058823529411764705,\n",
       " 'laboratory': 0.058823529411764705,\n",
       " 'blood': 0.058823529411764705,\n",
       " 'bank': 0.058823529411764705,\n",
       " 'organized': 0.058823529411764705,\n",
       " 'prepared': 0.058823529411764705,\n",
       " 'continue': 0.11764705882352941,\n",
       " 'equitable': 0.058823529411764705,\n",
       " 'limiting': 0.058823529411764705,\n",
       " 'direct': 0.058823529411764705,\n",
       " 'avoiding': 0.058823529411764705,\n",
       " 'indirect': 0.058823529411764705,\n",
       " '\\xa0\\xa0\\xa0\\n': 0.058823529411764705,\n",
       " 'stress': 0.058823529411764705,\n",
       " 'importance': 0.058823529411764705,\n",
       " 'keeping': 0.058823529411764705,\n",
       " 'date': 0.058823529411764705,\n",
       " 'information': 0.058823529411764705,\n",
       " 'frequent': 0.058823529411764705,\n",
       " 'transparent': 0.058823529411764705,\n",
       " 'communications': 0.058823529411764705,\n",
       " 'public': 0.17647058823529413,\n",
       " 'community': 0.058823529411764705,\n",
       " 'engagements': 0.058823529411764705,\n",
       " '\\xa0\\xa0': 0.058823529411764705,\n",
       " 'trust': 0.058823529411764705,\n",
       " 'safely': 0.058823529411764705,\n",
       " 'control': 0.058823529411764705,\n",
       " 'infection': 0.058823529411764705,\n",
       " 'seek': 0.058823529411764705,\n",
       " 'appropriate': 0.058823529411764705,\n",
       " 'adhere': 0.058823529411764705,\n",
       " 'advice': 0.058823529411764705,\n",
       " '\\n\\n': 0.058823529411764705}"
      ]
     },
     "execution_count": 36,
     "metadata": {},
     "output_type": "execute_result"
    }
   ],
   "source": [
    "word_frequencies"
   ]
  },
  {
   "cell_type": "code",
   "execution_count": 37,
   "metadata": {
    "collapsed": true
   },
   "outputs": [
    {
     "name": "stdout",
     "output_type": "stream",
     "text": [
      "[\"\n",
      "The COVID-19 pandemic is straining health systems worldwide., The rapidly increasing demand on health facilities and health care workers threatens to leave some health systems overstretched and unable to operate effectively., Previous outbreaks have demonstrated that when health systems are overwhelmed, mortality from vaccine-preventable and other treatable conditions can also increase dramatically., During the 2014-2015 Ebola outbreak, the increased number of deaths caused by measles, malaria, HIV/AIDS, and tuberculosis attributable to health system failures exceeded deaths from Ebola .  ",
      "\n",
      ", The best defense against any outbreak is a strong health system, stressed WHO Director-General Tedros Adhanom Ghebreyesus., COVID-19 is revealing how fragile many of the world’s health systems and services are, forcing countries to make difficult choices on how to best meet the needs of their people. ",
      "\n",
      ", To help countries navigate through these challenges, the World Health Organization (WHO) has updated operational planning guidelines in balancing the demands of responding directly to COVID-19 while maintaining essential health service delivery, and mitigating the risk of system collapse., This includes a set of targeted immediate actions that countries should consider at national, regional, and local level to reorganize and maintain access to high-quality essential health services for all. ",
      "\n",
      ", Countries should identify essential services that will be prioritized in their efforts to maintain continuity of service delivery and make strategic shifts to ensure that increasingly limited resources provide maximum benefit for the population., They also need to comply with the highest standard in precautions, especially in hygiene practices, and the provision of adequate supplies including personal protective equipment This requires robust planning and coordinated actions between governments and health facilities and their managers. ",
      "\n",
      ", Some examples of essential services include: routine vaccination; reproductive health services including care during pregnancy and childbirth; care of young infants and older adults; management of mental health conditions as well as noncommunicable diseases and infectious diseases like HIV, malaria and TB; critical inpatient therapies; management of emergency health conditions; auxiliary services like basic diagnostic imaging, laboratory services, and blood bank services, among others. ",
      "\n",
      ", Well-organized and prepared health systems can continue to provide equitable access to essential service delivery throughout an emergency, limiting direct mortality and avoiding increased indirect mortality.   \n",
      ", The guidelines stress the importance of keeping up-to-date information., This requires frequent transparent communications with the public, and strong community engagements so the public   can maintain trust in the system to safely meet their essential needs and to control infection risk in health facilities., This will help ensure that people continue to seek care when appropriate, and adhere to public health advice.\n",
      "\n",
      "]\n"
     ]
    }
   ],
   "source": [
    "sentence_tokens = [sent for sent in doc.sents]\n",
    "print(sentence_tokens)"
   ]
  },
  {
   "cell_type": "code",
   "execution_count": 40,
   "metadata": {},
   "outputs": [],
   "source": [
    "sentence_scores = {}\n",
    "for sent in sentence_tokens:\n",
    "    for word in sent:\n",
    "        if word.text.lower() in word_frequencies.keys():\n",
    "            if sent not in sentence_scores.keys():\n",
    "                sentence_scores[sent] = word_frequencies[word.text.lower()]\n",
    "            else:\n",
    "                sentence_scores[sent] += word_frequencies[word.text.lower()]\n",
    "                 \n",
    "                "
   ]
  },
  {
   "cell_type": "code",
   "execution_count": 41,
   "metadata": {},
   "outputs": [
    {
     "data": {
      "text/plain": [
       "{\"\n",
       " The COVID-19 pandemic is straining health systems worldwide.: 1.4705882352941178,\n",
       " The rapidly increasing demand on health facilities and health care workers threatens to leave some health systems overstretched and unable to operate effectively.: 4.2941176470588225,\n",
       " Previous outbreaks have demonstrated that when health systems are overwhelmed, mortality from vaccine-preventable and other treatable conditions can also increase dramatically.: 2.117647058823529,\n",
       " During the 2014-2015 Ebola outbreak, the increased number of deaths caused by measles, malaria, HIV/AIDS, and tuberculosis attributable to health system failures exceeded deaths from Ebola . \n",
       " : 2.5882352941176463,\n",
       " The best defense against any outbreak is a strong health system, stressed WHO Director-General Tedros Adhanom Ghebreyesus.: 1.7058823529411764,\n",
       " COVID-19 is revealing how fragile many of the world’s health systems and services are, forcing countries to make difficult choices on how to best meet the needs of their people.\n",
       " : 2.9999999999999996,\n",
       " To help countries navigate through these challenges, the World Health Organization (WHO) has updated operational planning guidelines in balancing the demands of responding directly to COVID-19 while maintaining essential health service delivery, and mitigating the risk of system collapse.: 4.6470588235294095,\n",
       " This includes a set of targeted immediate actions that countries should consider at national, regional, and local level to reorganize and maintain access to high-quality essential health services for all.\n",
       " : 3.3529411764705888,\n",
       " Countries should identify essential services that will be prioritized in their efforts to maintain continuity of service delivery and make strategic shifts to ensure that increasingly limited resources provide maximum benefit for the population.: 2.4705882352941164,\n",
       " They also need to comply with the highest standard in precautions, especially in hygiene practices, and the provision of adequate supplies including personal protective equipment This requires robust planning and coordinated actions between governments and health facilities and their managers.\n",
       " : 2.941176470588235,\n",
       " Some examples of essential services include: routine vaccination; reproductive health services including care during pregnancy and childbirth; care of young infants and older adults; management of mental health conditions as well as noncommunicable diseases and infectious diseases like HIV, malaria and TB; critical inpatient therapies; management of emergency health conditions; auxiliary services like basic diagnostic imaging, laboratory services, and blood bank services, among others.\n",
       " : 9.235294117647053,\n",
       " Well-organized and prepared health systems can continue to provide equitable access to essential service delivery throughout an emergency, limiting direct mortality and avoiding increased indirect mortality.   : 3.4117647058823515,\n",
       " The guidelines stress the importance of keeping up-to-date information.: 0.411764705882353,\n",
       " This requires frequent transparent communications with the public, and strong community engagements so the public   can maintain trust in the system to safely meet their essential needs and to control infection risk in health facilities.: 3.4705882352941173,\n",
       " This will help ensure that people continue to seek care when appropriate, and adhere to public health advice.\n",
       " : 2.1764705882352935}"
      ]
     },
     "execution_count": 41,
     "metadata": {},
     "output_type": "execute_result"
    }
   ],
   "source": [
    "sentence_scores"
   ]
  },
  {
   "cell_type": "code",
   "execution_count": 42,
   "metadata": {},
   "outputs": [],
   "source": [
    "from heapq import nlargest"
   ]
  },
  {
   "cell_type": "code",
   "execution_count": 43,
   "metadata": {},
   "outputs": [],
   "source": [
    "select_length = int(len(sentence_tokens)*0.3)"
   ]
  },
  {
   "cell_type": "code",
   "execution_count": 44,
   "metadata": {},
   "outputs": [
    {
     "data": {
      "text/plain": [
       "4"
      ]
     },
     "execution_count": 44,
     "metadata": {},
     "output_type": "execute_result"
    }
   ],
   "source": [
    "select_length"
   ]
  },
  {
   "cell_type": "code",
   "execution_count": 45,
   "metadata": {},
   "outputs": [],
   "source": [
    "summary = nlargest(select_length,sentence_scores,key=sentence_scores.get)"
   ]
  },
  {
   "cell_type": "code",
   "execution_count": 46,
   "metadata": {},
   "outputs": [
    {
     "data": {
      "text/plain": [
       "[Some examples of essential services include: routine vaccination; reproductive health services including care during pregnancy and childbirth; care of young infants and older adults; management of mental health conditions as well as noncommunicable diseases and infectious diseases like HIV, malaria and TB; critical inpatient therapies; management of emergency health conditions; auxiliary services like basic diagnostic imaging, laboratory services, and blood bank services, among others.\n",
       " ,\n",
       " To help countries navigate through these challenges, the World Health Organization (WHO) has updated operational planning guidelines in balancing the demands of responding directly to COVID-19 while maintaining essential health service delivery, and mitigating the risk of system collapse.,\n",
       " The rapidly increasing demand on health facilities and health care workers threatens to leave some health systems overstretched and unable to operate effectively.,\n",
       " This requires frequent transparent communications with the public, and strong community engagements so the public   can maintain trust in the system to safely meet their essential needs and to control infection risk in health facilities.]"
      ]
     },
     "execution_count": 46,
     "metadata": {},
     "output_type": "execute_result"
    }
   ],
   "source": [
    "summary"
   ]
  },
  {
   "cell_type": "code",
   "execution_count": 47,
   "metadata": {},
   "outputs": [],
   "source": [
    "final_summary = [word.text for word in summary]"
   ]
  },
  {
   "cell_type": "code",
   "execution_count": 48,
   "metadata": {},
   "outputs": [
    {
     "data": {
      "text/plain": [
       "['Some examples of essential services include: routine vaccination; reproductive health services including care during pregnancy and childbirth; care of young infants and older adults; management of mental health conditions as well as noncommunicable diseases and infectious diseases like HIV, malaria and TB; critical inpatient therapies; management of emergency health conditions; auxiliary services like basic diagnostic imaging, laboratory services, and blood bank services, among others.\\u2028\\n',\n",
       " 'To help countries navigate through these challenges, the World Health Organization (WHO) has updated\\xa0operational planning guidelines\\xa0in balancing the demands of responding directly to COVID-19 while maintaining essential health service delivery, and mitigating the risk of system collapse.',\n",
       " 'The rapidly increasing demand on health facilities and health care workers threatens to leave some health systems overstretched and unable to operate effectively.',\n",
       " 'This requires frequent transparent communications with the public, and strong community engagements so the public \\xa0\\xa0can maintain trust in the system to safely meet their essential needs and to control infection risk in health facilities.']"
      ]
     },
     "execution_count": 48,
     "metadata": {},
     "output_type": "execute_result"
    }
   ],
   "source": [
    "final_summary"
   ]
  },
  {
   "cell_type": "code",
   "execution_count": 49,
   "metadata": {},
   "outputs": [],
   "source": [
    "summary = ''.join(final_summary)"
   ]
  },
  {
   "cell_type": "code",
   "execution_count": 50,
   "metadata": {},
   "outputs": [
    {
     "data": {
      "text/plain": [
       "'Some examples of essential services include: routine vaccination; reproductive health services including care during pregnancy and childbirth; care of young infants and older adults; management of mental health conditions as well as noncommunicable diseases and infectious diseases like HIV, malaria and TB; critical inpatient therapies; management of emergency health conditions; auxiliary services like basic diagnostic imaging, laboratory services, and blood bank services, among others.\\u2028\\nTo help countries navigate through these challenges, the World Health Organization (WHO) has updated\\xa0operational planning guidelines\\xa0in balancing the demands of responding directly to COVID-19 while maintaining essential health service delivery, and mitigating the risk of system collapse.The rapidly increasing demand on health facilities and health care workers threatens to leave some health systems overstretched and unable to operate effectively.This requires frequent transparent communications with the public, and strong community engagements so the public \\xa0\\xa0can maintain trust in the system to safely meet their essential needs and to control infection risk in health facilities.'"
      ]
     },
     "execution_count": 50,
     "metadata": {},
     "output_type": "execute_result"
    }
   ],
   "source": [
    "summary\n"
   ]
  },
  {
   "cell_type": "code",
   "execution_count": null,
   "metadata": {},
   "outputs": [],
   "source": []
  }
 ],
 "metadata": {
  "kernelspec": {
   "display_name": "Python 3",
   "language": "python",
   "name": "python3"
  },
  "language_info": {
   "codemirror_mode": {
    "name": "ipython",
    "version": 3
   },
   "file_extension": ".py",
   "mimetype": "text/x-python",
   "name": "python",
   "nbconvert_exporter": "python",
   "pygments_lexer": "ipython3",
   "version": "3.7.4"
  }
 },
 "nbformat": 4,
 "nbformat_minor": 2
}
